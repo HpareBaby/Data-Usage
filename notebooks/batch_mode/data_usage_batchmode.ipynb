{
 "cells": [
  {
   "cell_type": "code",
   "execution_count": 1,
   "id": "7aff26d1-0cdc-4d5a-96f2-312390af1044",
   "metadata": {},
   "outputs": [],
   "source": [
    "import sys\n",
    "import pandas as pd\n",
    "from jinja2 import Template"
   ]
  },
  {
   "cell_type": "code",
   "execution_count": 2,
   "id": "ac48a057-3360-4e38-b3e0-d94e6cab703c",
   "metadata": {},
   "outputs": [],
   "source": [
    "sys.path.append('../..')\n",
    "from utils.database_connector import DBConn\n",
    "from utils.query_template import QTemplate\n",
    "conn = DBConn()\n",
    "qtemplate = QTemplate()"
   ]
  },
  {
   "cell_type": "code",
   "execution_count": 4,
   "id": "c83efc74-1908-4047-8b6e-6a153ae6c3ba",
   "metadata": {},
   "outputs": [],
   "source": [
    "data = pd.read_csv('../../data/snapshot/data_usage.csv', dtype={'customer_id': str})"
   ]
  },
  {
   "cell_type": "code",
   "execution_count": 5,
   "id": "906ef6e2-8777-4ba3-baf7-24b82d73ad33",
   "metadata": {},
   "outputs": [
    {
     "data": {
      "text/html": [
       "<div>\n",
       "<style scoped>\n",
       "    .dataframe tbody tr th:only-of-type {\n",
       "        vertical-align: middle;\n",
       "    }\n",
       "\n",
       "    .dataframe tbody tr th {\n",
       "        vertical-align: top;\n",
       "    }\n",
       "\n",
       "    .dataframe thead th {\n",
       "        text-align: right;\n",
       "    }\n",
       "</style>\n",
       "<table border=\"1\" class=\"dataframe\">\n",
       "  <thead>\n",
       "    <tr style=\"text-align: right;\">\n",
       "      <th></th>\n",
       "      <th>record_year</th>\n",
       "      <th>record_month</th>\n",
       "      <th>customer_id</th>\n",
       "      <th>total_mb</th>\n",
       "    </tr>\n",
       "  </thead>\n",
       "  <tbody>\n",
       "    <tr>\n",
       "      <th>0</th>\n",
       "      <td>2021</td>\n",
       "      <td>1</td>\n",
       "      <td>2000001</td>\n",
       "      <td>395800</td>\n",
       "    </tr>\n",
       "    <tr>\n",
       "      <th>1</th>\n",
       "      <td>2021</td>\n",
       "      <td>8</td>\n",
       "      <td>2000001</td>\n",
       "      <td>49212</td>\n",
       "    </tr>\n",
       "    <tr>\n",
       "      <th>2</th>\n",
       "      <td>2021</td>\n",
       "      <td>7</td>\n",
       "      <td>2000001</td>\n",
       "      <td>199774</td>\n",
       "    </tr>\n",
       "    <tr>\n",
       "      <th>3</th>\n",
       "      <td>2021</td>\n",
       "      <td>2</td>\n",
       "      <td>2000001</td>\n",
       "      <td>244809</td>\n",
       "    </tr>\n",
       "    <tr>\n",
       "      <th>4</th>\n",
       "      <td>2021</td>\n",
       "      <td>6</td>\n",
       "      <td>2000001</td>\n",
       "      <td>269046</td>\n",
       "    </tr>\n",
       "    <tr>\n",
       "      <th>...</th>\n",
       "      <td>...</td>\n",
       "      <td>...</td>\n",
       "      <td>...</td>\n",
       "      <td>...</td>\n",
       "    </tr>\n",
       "    <tr>\n",
       "      <th>2143242</th>\n",
       "      <td>2021</td>\n",
       "      <td>11</td>\n",
       "      <td>2345111</td>\n",
       "      <td>4458</td>\n",
       "    </tr>\n",
       "    <tr>\n",
       "      <th>2143243</th>\n",
       "      <td>2021</td>\n",
       "      <td>11</td>\n",
       "      <td>2345112</td>\n",
       "      <td>458</td>\n",
       "    </tr>\n",
       "    <tr>\n",
       "      <th>2143244</th>\n",
       "      <td>2021</td>\n",
       "      <td>11</td>\n",
       "      <td>2345113</td>\n",
       "      <td>2883</td>\n",
       "    </tr>\n",
       "    <tr>\n",
       "      <th>2143245</th>\n",
       "      <td>2021</td>\n",
       "      <td>11</td>\n",
       "      <td>2345114</td>\n",
       "      <td>1673</td>\n",
       "    </tr>\n",
       "    <tr>\n",
       "      <th>2143246</th>\n",
       "      <td>2021</td>\n",
       "      <td>11</td>\n",
       "      <td>2345115</td>\n",
       "      <td>1541</td>\n",
       "    </tr>\n",
       "  </tbody>\n",
       "</table>\n",
       "<p>2143247 rows × 4 columns</p>\n",
       "</div>"
      ],
      "text/plain": [
       "         record_year  record_month customer_id  total_mb\n",
       "0               2021             1     2000001    395800\n",
       "1               2021             8     2000001     49212\n",
       "2               2021             7     2000001    199774\n",
       "3               2021             2     2000001    244809\n",
       "4               2021             6     2000001    269046\n",
       "...              ...           ...         ...       ...\n",
       "2143242         2021            11     2345111      4458\n",
       "2143243         2021            11     2345112       458\n",
       "2143244         2021            11     2345113      2883\n",
       "2143245         2021            11     2345114      1673\n",
       "2143246         2021            11     2345115      1541\n",
       "\n",
       "[2143247 rows x 4 columns]"
      ]
     },
     "execution_count": 5,
     "metadata": {},
     "output_type": "execute_result"
    }
   ],
   "source": [
    "data"
   ]
  },
  {
   "cell_type": "code",
   "execution_count": null,
   "id": "4dedc8dc-fabb-4be8-8e73-de8fe59be112",
   "metadata": {},
   "outputs": [],
   "source": [
    "conn.execute_values(data, 'rpterp.crd_erp_monthly_customer_data_usage')"
   ]
  }
 ],
 "metadata": {
  "kernelspec": {
   "display_name": "Python 3 (ipykernel)",
   "language": "python",
   "name": "python3"
  },
  "language_info": {
   "codemirror_mode": {
    "name": "ipython",
    "version": 3
   },
   "file_extension": ".py",
   "mimetype": "text/x-python",
   "name": "python",
   "nbconvert_exporter": "python",
   "pygments_lexer": "ipython3",
   "version": "3.7.12"
  }
 },
 "nbformat": 4,
 "nbformat_minor": 5
}
